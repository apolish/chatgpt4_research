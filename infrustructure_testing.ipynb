{
 "cells": [
  {
   "cell_type": "markdown",
   "id": "83dc6fc6-3d69-4353-86c6-e36639468530",
   "metadata": {},
   "source": [
    "# 1. Test code running"
   ]
  },
  {
   "cell_type": "code",
   "execution_count": 1,
   "id": "ca4e8a61-04b6-4f91-851b-19b2ba9869d7",
   "metadata": {},
   "outputs": [
    {
     "data": {
      "text/plain": [
       "[575, 539, 835, 28, 939]"
      ]
     },
     "execution_count": 1,
     "metadata": {},
     "output_type": "execute_result"
    }
   ],
   "source": [
    "import pyspark \n",
    "sc = pyspark.SparkContext('local[*]')\n",
    "# do something to prove it works\n",
    "rdd = sc.parallelize(range(1000))\n",
    "rdd.takeSample(False, 5)"
   ]
  },
  {
   "cell_type": "markdown",
   "id": "442bf48f-bf58-4a0f-9773-8fe2392c13b5",
   "metadata": {},
   "source": [
    "# 2. Read three datasets by Spark and print counts for each"
   ]
  },
  {
   "cell_type": "code",
   "execution_count": 3,
   "id": "573de626-4720-431a-bbb1-3479c76f35f9",
   "metadata": {},
   "outputs": [
    {
     "name": "stdout",
     "output_type": "stream",
     "text": [
      "Number of Records in input_csv_files/transactions.csv: 5000000\n",
      "Number of Records in input_csv_files/accounts.csv: 500000\n",
      "Number of Records in input_csv_files/country_abbreviation.csv: 121\n"
     ]
    }
   ],
   "source": [
    "from pyspark.sql import SparkSession\n",
    "\n",
    "# Initialize Spark session\n",
    "spark = SparkSession.builder.appName(\"CSVRecordCounter\").getOrCreate()\n",
    "\n",
    "path = \"input_csv_files/\"\n",
    "\n",
    "# List of CSV file paths\n",
    "csvFilePaths = [\n",
    "  path + \"transactions.csv\",\n",
    "  path + \"accounts.csv\",\n",
    "  path + \"country_abbreviation.csv\"\n",
    "]\n",
    "\n",
    "# Iterate through the list of CSV files and count the records\n",
    "for filePath in csvFilePaths:\n",
    "    df = spark.read.option(\"header\", \"true\").csv(filePath)\n",
    "    recordCount = df.count()\n",
    "    print(f\"Number of Records in {filePath}: {recordCount}\")\n",
    "\n",
    "# Stop the Spark session\n",
    "spark.stop()\n"
   ]
  },
  {
   "cell_type": "code",
   "execution_count": null,
   "id": "bdde42c4-3162-4e56-b4ab-682fe31a80f9",
   "metadata": {},
   "outputs": [],
   "source": []
  }
 ],
 "metadata": {
  "kernelspec": {
   "display_name": "Python 3 (ipykernel)",
   "language": "python",
   "name": "python3"
  },
  "language_info": {
   "codemirror_mode": {
    "name": "ipython",
    "version": 3
   },
   "file_extension": ".py",
   "mimetype": "text/x-python",
   "name": "python",
   "nbconvert_exporter": "python",
   "pygments_lexer": "ipython3",
   "version": "3.11.5"
  }
 },
 "nbformat": 4,
 "nbformat_minor": 5
}
