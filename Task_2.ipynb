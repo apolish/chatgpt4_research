{
 "cells": [
  {
   "cell_type": "markdown",
   "id": "98a89100-7558-418a-8b65-1451751f8eec",
   "metadata": {},
   "source": [
    "# 1. Calculate total earnings (sum of transactions above 0) for each user from Switzerland by year as a pivot table."
   ]
  },
  {
   "cell_type": "code",
   "execution_count": 3,
   "id": "a6a9ac0e-776b-43ae-a7dd-585166c84c52",
   "metadata": {},
   "outputs": [
    {
     "name": "stdout",
     "output_type": "stream",
     "text": [
      "+------------------+-------+------------------+-------+--------+-------+-------+------------------+--------+-----------------+-------+-------+\n",
      "|         full_name|   2011|              2012|   2013|    2014|   2015|   2016|              2017|    2018|             2019|   2020|   2021|\n",
      "+------------------+-------+------------------+-------+--------+-------+-------+------------------+--------+-----------------+-------+-------+\n",
      "|    Natalie Nelson|   null|              null|   null|    null|1664.57| 7067.5|           7446.06|14378.04|             null|   null|   null|\n",
      "|     Lenny Spencer|2050.35|              null|   null|    null|   null| 509.08|16116.580000000002|    null|          8693.52| 923.65|8797.15|\n",
      "|      Lucia Watson|   null|           2173.26|   null|10047.25|   null|   null|              null|    null|          4500.61|   null|   null|\n",
      "|    Adelaide Dixon|   null|              null|   null|    null|   null|   null|           2176.15|    null|             null|   null|   null|\n",
      "|      Marcus Baker|   null|              null|6955.29| 2341.43|4353.16|   null|              null|    null|             null|3337.62|   null|\n",
      "|      Jessica West|   null|           8673.72|   null|    null|   null|   null|              null|    null|             null|4797.03|1294.49|\n",
      "|    Adison Douglas|   null|              null|   null| 1775.76|   null|   null|              null|    null|             null|   null|2002.15|\n",
      "|     Aston Andrews|   null|              null|   null|    null|   null|   null|           4598.25|    null|             null|   null|   null|\n",
      "|   Kirsten Stevens| 8932.7|              null|5753.21|    null|   null|3134.12|              null|    null|             null|   null|   null|\n",
      "|       Luke Carter|   null|1585.4099999999999|  93.69|    null|   null|   null|           7029.37| 8340.16|             null|   null|   null|\n",
      "|     Darcy Edwards|   null|              null|   null|    null|   null|   null|           7892.65| 8538.91|          2252.85|   null|   null|\n",
      "|Jessica Richardson|   null|              null|   null|    null|   null|9661.02|            3273.5|    null|             null|   null|   null|\n",
      "|      Natalie Hill|   null|           4019.35|   null| 3966.58|   null| 9315.2|              null|    null|             null|2789.47|   null|\n",
      "|       Agata Myers|   null|              null|   null|    null|   null|   null|              null|    null|             null|7926.86|   null|\n",
      "|      Arnold Kelly|   null|              null|   null|    null|7327.47|4848.64|              null|    null|             null|   null|   null|\n",
      "|     Sienna Watson|   null|              null|5427.76| 5458.24|   null|9114.71|           4854.05|    null|5794.610000000001|   null|   null|\n",
      "|     Fenton Thomas|   null|           1182.12|   null|    null|   null|   null|              null|    null|             null|   null|   null|\n",
      "|       Julia Ellis|   null|              null|   null| 6054.68|5205.99|8650.32|              null|    null|             null|   null|   null|\n",
      "|    Daisy Campbell|   null|           6356.06|4818.39|    null|   null|   null|            156.42|    null|             null|   null|   null|\n",
      "|      Paige Taylor|9149.33|              null|   null|    null|8396.53|   null|              null| 8368.08|             null|4075.26|7902.95|\n",
      "+------------------+-------+------------------+-------+--------+-------+-------+------------------+--------+-----------------+-------+-------+\n",
      "only showing top 20 rows\n",
      "\n"
     ]
    }
   ],
   "source": [
    "from pyspark.sql import SparkSession\n",
    "from pyspark.sql.functions import col, concat, lit, year, sum\n",
    "\n",
    "path_to = \"input_csv_files/\"\n",
    "\n",
    "# Initialize Spark session\n",
    "spark = SparkSession.builder \\\n",
    "    .appName(\"Spark CSV Analysis\") \\\n",
    "    .getOrCreate()\n",
    "\n",
    "# Consolidate read options for simplicity\n",
    "def read_spark_csv(path):\n",
    "    return spark.read \\\n",
    "        .option(\"header\", \"true\") \\\n",
    "        .option(\"inferSchema\", \"true\") \\\n",
    "        .option(\"delimiter\", \";\") \\\n",
    "        .csv(path)\n",
    "\n",
    "# Read CSV files\n",
    "transactionsDF = read_spark_csv(path_to + \"transactions.csv\")\n",
    "countryAbbrDF = read_spark_csv(path_to + \"country_abbreviation.csv\")\n",
    "accountsDF = read_spark_csv(path_to + \"accounts.csv\")\n",
    "\n",
    "# Join transactionsDF and accountsDF with only required columns and perform filter operation\n",
    "filteredDF = transactionsDF.filter(col(\"amount\") > 0) \\\n",
    "    .select(\"id\", \"amount\", \"transaction_date\", \"country\") \\\n",
    "    .join(accountsDF.select(\"id\", \"first_name\", \"last_name\"), \"id\")\n",
    "\n",
    "# Join with country abbreviation dataframe and filter for Swiss users\n",
    "swissEarningsDF = filteredDF \\\n",
    "    .join(countryAbbrDF, filteredDF[\"country\"] == countryAbbrDF[\"abbreviation\"]) \\\n",
    "    .filter(col(\"country_full_name\") == \"Switzerland\")\n",
    "\n",
    "# Calculate yearly earnings and pivot on 'year'\n",
    "pivotDF = swissEarningsDF.groupBy(\n",
    "    concat(col(\"first_name\"), lit(\" \"), col(\"last_name\")).alias(\"full_name\"),\n",
    "    year(col(\"transaction_date\")).alias(\"year\")) \\\n",
    "    .agg(sum(\"amount\").alias(\"earnings\")) \\\n",
    "    .groupBy(\"full_name\").pivot(\"year\").agg(sum(\"earnings\"))\n",
    "\n",
    "pivotDF.show()\n"
   ]
  }
 ],
 "metadata": {
  "kernelspec": {
   "display_name": "Python 3 (ipykernel)",
   "language": "python",
   "name": "python3"
  },
  "language_info": {
   "codemirror_mode": {
    "name": "ipython",
    "version": 3
   },
   "file_extension": ".py",
   "mimetype": "text/x-python",
   "name": "python",
   "nbconvert_exporter": "python",
   "pygments_lexer": "ipython3",
   "version": "3.11.5"
  }
 },
 "nbformat": 4,
 "nbformat_minor": 5
}
