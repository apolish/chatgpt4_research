{
 "cells": [
  {
   "cell_type": "markdown",
   "id": "766ac27e-45fa-4f6c-9aec-3a3bcc119385",
   "metadata": {},
   "source": [
    "# 1. Read the following three CSV files \"transactions.csv\", \"country_abbreviation.csv\", and \"accounts.csv\"."
   ]
  },
  {
   "cell_type": "code",
   "execution_count": 1,
   "id": "58fd242b-3edc-4fae-ac1c-920e5673a28f",
   "metadata": {},
   "outputs": [],
   "source": [
    "from pyspark.sql import SparkSession\n",
    "\n",
    "path_to = \"input_csv_files/\"\n",
    "\n",
    "# Initialize Spark session\n",
    "spark = SparkSession.builder \\\n",
    "    .appName(\"Spark CSV Analysis\") \\\n",
    "    .getOrCreate()\n",
    "\n",
    "# Read transactions.csv\n",
    "transactionsDF = spark.read \\\n",
    "    .option(\"header\", \"true\") \\\n",
    "    .option(\"inferSchema\", \"true\") \\\n",
    "    .option(\"delimiter\", \";\") \\\n",
    "    .csv(path_to + \"transactions.csv\")\n",
    "\n",
    "# Read country_abbreviation.csv\n",
    "countryAbbrDF = spark.read \\\n",
    "    .option(\"header\", \"true\") \\\n",
    "    .option(\"inferSchema\", \"true\") \\\n",
    "    .option(\"delimiter\", \";\") \\\n",
    "    .csv(path_to + \"country_abbreviation.csv\")\n",
    "\n",
    "# Read accounts.csv\n",
    "accountsDF = spark.read \\\n",
    "    .option(\"header\", \"true\") \\\n",
    "    .option(\"inferSchema\", \"true\") \\\n",
    "    .option(\"delimiter\", \";\") \\\n",
    "    .csv(path_to + \"accounts.csv\")\n"
   ]
  },
  {
   "cell_type": "markdown",
   "id": "98a89100-7558-418a-8b65-1451751f8eec",
   "metadata": {},
   "source": [
    "# "
   ]
  },
  {
   "cell_type": "code",
   "execution_count": null,
   "id": "86b124e8-4595-4ea8-9761-4588609e16f3",
   "metadata": {},
   "outputs": [],
   "source": [
    "from pyspark.sql.functions import col, concat, lit, year, sum\n",
    "\n",
    "# Join the transactions and accounts dataframes on 'id' and filter out the earnings greater than 0\n",
    "earningsDF = transactionsDF \\\n",
    "    .join(accountsDF, transactionsDF[\"id\"] == accountsDF[\"id\"]) \\\n",
    "    .filter(col(\"amount\") > 0) \\\n",
    "    .drop(accountsDF[\"id\"]) # Drop duplicate 'id' column\n",
    "\n",
    "# Note: You should also resolve the country column conflict. Here, I'm keeping the country from transactionsDF\n",
    "# You might adjust this according to your needs\n",
    "earningsDF = earningsDF.drop(accountsDF[\"country\"])\n",
    "\n",
    "# Join with country abbreviation dataframe to get full country names\n",
    "withFullCountryDF = earningsDF \\\n",
    "    .join(countryAbbrDF, earningsDF[\"country\"] == countryAbbrDF[\"abbreviation\"])\n",
    "\n",
    "# Filter out users from Switzerland\n",
    "swissEarningsDF = withFullCountryDF.filter(col(\"country_full_name\") == \"Switzerland\")\n",
    "\n",
    "# Calculate yearly earnings\n",
    "yearlyEarningsDF = swissEarningsDF.groupBy(\n",
    "    concat(col(\"first_name\"), lit(\" \"), col(\"last_name\")).alias(\"full_name\"),\n",
    "    year(col(\"transaction_date\")).alias(\"year\")) \\\n",
    "    .agg(sum(\"amount\").alias(\"earnings\"))\n",
    "\n",
    "# Pivot the dataframe on 'year'\n",
    "pivotDF = yearlyEarningsDF.groupBy(\"full_name\").pivot(\"year\").agg(sum(\"earnings\"))\n",
    "\n",
    "pivotDF.show()\n"
   ]
  }
 ],
 "metadata": {
  "kernelspec": {
   "display_name": "Python 3 (ipykernel)",
   "language": "python",
   "name": "python3"
  },
  "language_info": {
   "codemirror_mode": {
    "name": "ipython",
    "version": 3
   },
   "file_extension": ".py",
   "mimetype": "text/x-python",
   "name": "python",
   "nbconvert_exporter": "python",
   "pygments_lexer": "ipython3",
   "version": "3.11.5"
  }
 },
 "nbformat": 4,
 "nbformat_minor": 5
}
