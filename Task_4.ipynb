{
 "cells": [
  {
   "cell_type": "markdown",
   "id": "c9b60c7d-1bda-45d4-81ef-6e32e8cf62ec",
   "metadata": {},
   "source": [
    "# 1. Read the TXT file"
   ]
  },
  {
   "cell_type": "code",
   "execution_count": 1,
   "id": "30a9de2b-07ec-40d5-871a-08f1bf9e52d7",
   "metadata": {},
   "outputs": [],
   "source": [
    "from pyspark.sql import SparkSession\n",
    "\n",
    "# Initialize Spark session\n",
    "spark = SparkSession.builder \\\n",
    "    .appName(\"Spark TXT Analysis\") \\\n",
    "    .getOrCreate()\n",
    "\n",
    "rdd = spark.sparkContext.textFile(\"input_csv_files/Task_4_txt_file_example.txt\")\n"
   ]
  },
  {
   "cell_type": "markdown",
   "id": "c197e3f9-fd85-44f4-b0f0-a8a6f1d377bd",
   "metadata": {},
   "source": [
    "# 2. Parse the TXT file and convert it into a DataFrame"
   ]
  },
  {
   "cell_type": "code",
   "execution_count": null,
   "id": "08fcc642-bb37-4e00-b985-c3fc2de40f7e",
   "metadata": {},
   "outputs": [],
   "source": []
  }
 ],
 "metadata": {
  "kernelspec": {
   "display_name": "Python 3 (ipykernel)",
   "language": "python",
   "name": "python3"
  },
  "language_info": {
   "codemirror_mode": {
    "name": "ipython",
    "version": 3
   },
   "file_extension": ".py",
   "mimetype": "text/x-python",
   "name": "python",
   "nbconvert_exporter": "python",
   "pygments_lexer": "ipython3",
   "version": "3.11.5"
  }
 },
 "nbformat": 4,
 "nbformat_minor": 5
}
