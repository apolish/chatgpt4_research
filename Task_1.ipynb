{
 "cells": [
  {
   "cell_type": "markdown",
   "id": "6bc62164-c012-4ea5-b54e-7193617e0cc5",
   "metadata": {},
   "source": [
    "# 1. Calculate how many accounts of each type there are in \"transactions.csv\" file using Spark SQL."
   ]
  },
  {
   "cell_type": "code",
   "execution_count": 1,
   "id": "a9eb14bb-9ae7-4dc4-bb84-122a792634e5",
   "metadata": {},
   "outputs": [
    {
     "name": "stdout",
     "output_type": "stream",
     "text": [
      "+------------+------------------+\n",
      "|account_type|account_type_count|\n",
      "+------------+------------------+\n",
      "|    Personal|           1667072|\n",
      "|Professional|           1667358|\n",
      "|    Business|           1665570|\n",
      "+------------+------------------+\n",
      "\n"
     ]
    }
   ],
   "source": [
    "from pyspark.sql import SparkSession\n",
    "from pyspark.sql.types import StructType, StructField, IntegerType, DoubleType, StringType, DateType\n",
    "\n",
    "def calculateAccountTypes(filePath: str):\n",
    "    # Define the schema\n",
    "    schema = StructType([\n",
    "        StructField(\"id\", IntegerType(), nullable=True),\n",
    "        StructField(\"amount\", DoubleType(), nullable=True),\n",
    "        StructField(\"account_type\", StringType(), nullable=True),\n",
    "        StructField(\"transaction_date\", DateType(), nullable=True),\n",
    "        StructField(\"country\", StringType(), nullable=True)\n",
    "    ])\n",
    "\n",
    "    # Initialize Spark session\n",
    "    spark = SparkSession.builder.appName(\"AccountTypeCalculator\").getOrCreate()\n",
    "\n",
    "    # Read CSV file with the specified schema\n",
    "    transactionsDF = spark.read \\\n",
    "        .option(\"header\", \"true\") \\\n",
    "        .option(\"delimiter\", \";\") \\\n",
    "        .schema(schema) \\\n",
    "        .csv(filePath)\n",
    "\n",
    "    # Register the DataFrame as a SQL temporary view\n",
    "    transactionsDF.createOrReplaceTempView(\"transactions\")\n",
    "\n",
    "    # Execute SQL query to group by account_type and count\n",
    "    result = spark.sql(\n",
    "        \"SELECT account_type, COUNT(*) as account_type_count \" +\n",
    "        \"FROM transactions \" +\n",
    "        \"GROUP BY account_type\"\n",
    "    )\n",
    "\n",
    "    return result\n",
    "\n",
    "# Call the function to calculate the count of account types\n",
    "accountCounts = calculateAccountTypes(\"input_csv_files//transactions.csv\")\n",
    "\n",
    "# Show the result\n",
    "accountCounts.show()\n"
   ]
  }
 ],
 "metadata": {
  "kernelspec": {
   "display_name": "Python 3 (ipykernel)",
   "language": "python",
   "name": "python3"
  },
  "language_info": {
   "codemirror_mode": {
    "name": "ipython",
    "version": 3
   },
   "file_extension": ".py",
   "mimetype": "text/x-python",
   "name": "python",
   "nbconvert_exporter": "python",
   "pygments_lexer": "ipython3",
   "version": "3.11.5"
  }
 },
 "nbformat": 4,
 "nbformat_minor": 5
}
