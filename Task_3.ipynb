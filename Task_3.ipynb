{
 "cells": [
  {
   "cell_type": "markdown",
   "id": "1029eef3-d55d-47b1-bc9d-3a51421b7c86",
   "metadata": {},
   "source": [
    "# 1. Read \"transactions.csv\" file"
   ]
  },
  {
   "cell_type": "code",
   "execution_count": 1,
   "id": "be5e91fa-70fb-49b7-a4e7-c94d5244e26f",
   "metadata": {},
   "outputs": [],
   "source": [
    "from pyspark.sql import SparkSession\n",
    "\n",
    "# Initialize Spark session\n",
    "spark = SparkSession.builder \\\n",
    "    .appName(\"Spark CSV Analysis\") \\\n",
    "    .getOrCreate()\n",
    "\n",
    "# Read transactions.csv\n",
    "transactionsDF = spark.read \\\n",
    "    .option(\"header\", \"true\") \\\n",
    "    .option(\"inferSchema\", \"true\") \\\n",
    "    .option(\"delimiter\", \";\") \\\n",
    "    .csv(\"input_csv_files/transactions.csv\")\n"
   ]
  },
  {
   "cell_type": "markdown",
   "id": "ca21f811-6eb6-4153-96a3-a7f2e2f34876",
   "metadata": {},
   "source": [
    "# 2. Create the function to determine the levels"
   ]
  },
  {
   "cell_type": "code",
   "execution_count": 2,
   "id": "29ee8046-2f8c-4199-b2f3-295b9abd1ac1",
   "metadata": {},
   "outputs": [
    {
     "name": "stdout",
     "output_type": "stream",
     "text": [
      "+------+-------+------------+----------------+-------+-------+\n",
      "|    id| amount|account_type|transaction_date|country|  level|\n",
      "+------+-------+------------+----------------+-------+-------+\n",
      "|179528|-730.86|    Business|      2013-07-10|     SV|    low|\n",
      "|378343|-946.98|    Personal|      2018-04-06|     YE|    low|\n",
      "| 75450|7816.92|Professional|      2016-11-20|     SI|   high|\n",
      "|357719| 704.02|    Business|      2016-11-06|     ID|    low|\n",
      "|110511| 3462.6|    Personal|      2018-01-18|     BS|average|\n",
      "|461830| 762.81|Professional|      2017-06-20|     CN|    low|\n",
      "| 30180|5390.24|Professional|      2021-05-26|     GN|average|\n",
      "| 65398|4765.77|    Personal|      2018-05-01|     TR|average|\n",
      "|170899|8775.89|    Business|      2013-10-16|     SK|   high|\n",
      "|234300|8455.18|Professional|      2015-10-06|     LU|   high|\n",
      "|208027| 6244.1|    Business|      2020-03-06|     AE|average|\n",
      "|161212|5904.56|    Personal|      2016-09-07|     EG|average|\n",
      "|105372|4079.76|Professional|      2015-02-12|     MT|average|\n",
      "|205321| 3570.4|Professional|      2012-07-02|     MU|average|\n",
      "|410863|2328.83|    Business|      2012-12-20|     SR|average|\n",
      "|486752| 5454.8|Professional|      2015-02-10|     CU|average|\n",
      "|208564|8695.17|    Personal|      2013-01-03|     IT|   high|\n",
      "|196682|-905.87|    Personal|      2019-01-28|     HU|    low|\n",
      "|491196|8781.02|Professional|      2017-05-11|     IR|   high|\n",
      "|108286|3485.95|    Personal|      2011-12-13|     ZW|average|\n",
      "+------+-------+------------+----------------+-------+-------+\n",
      "only showing top 20 rows\n",
      "\n"
     ]
    }
   ],
   "source": [
    "from pyspark.sql import DataFrame\n",
    "from pyspark.sql.functions import when, col\n",
    "\n",
    "def assignTransactionLevel(transactions: DataFrame) -> DataFrame:\n",
    "    # Calculate quantiles\n",
    "    quantiles = transactions.stat.approxQuantile(\"amount\", [0.25, 0.75], 0.0)\n",
    "    lowerQuantile = quantiles[0]\n",
    "    upperQuantile = quantiles[1]\n",
    "\n",
    "    # Assign levels based on quantiles\n",
    "    return transactions.withColumn(\"level\", \n",
    "        when(col(\"amount\") > upperQuantile, \"high\") \\\n",
    "        .when((col(\"amount\") <= upperQuantile) & (col(\"amount\") > lowerQuantile), \"average\") \\\n",
    "        .otherwise(\"low\"))\n",
    "\n",
    "# Using the function\n",
    "transactionsWithLevel = assignTransactionLevel(transactionsDF)\n",
    "transactionsWithLevel.show()\n"
   ]
  }
 ],
 "metadata": {
  "kernelspec": {
   "display_name": "Python 3 (ipykernel)",
   "language": "python",
   "name": "python3"
  },
  "language_info": {
   "codemirror_mode": {
    "name": "ipython",
    "version": 3
   },
   "file_extension": ".py",
   "mimetype": "text/x-python",
   "name": "python",
   "nbconvert_exporter": "python",
   "pygments_lexer": "ipython3",
   "version": "3.11.5"
  }
 },
 "nbformat": 4,
 "nbformat_minor": 5
}
